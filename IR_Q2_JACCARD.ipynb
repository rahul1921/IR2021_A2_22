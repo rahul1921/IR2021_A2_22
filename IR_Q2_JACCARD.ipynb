{
  "nbformat": 4,
  "nbformat_minor": 0,
  "metadata": {
    "colab": {
      "name": "IR_Q2_JACCARD.ipynb",
      "provenance": [],
      "collapsed_sections": []
    },
    "kernelspec": {
      "display_name": "Python 3",
      "name": "python3"
    },
    "language_info": {
      "name": "python"
    }
  },
  "cells": [
    {
      "cell_type": "code",
      "metadata": {
        "colab": {
          "base_uri": "https://localhost:8080/"
        },
        "id": "K2_Rt6pYPp2W",
        "outputId": "a2209d86-9da9-4d8c-fac0-f429d0df62c3"
      },
      "source": [
        "import os\n",
        "import glob\n",
        "import nltk\n",
        "from nltk.tokenize import RegexpTokenizer\n",
        "from nltk.corpus import stopwords\n",
        "from nltk.stem import WordNetLemmatizer \n",
        "from nltk.stem.porter import PorterStemmer\n",
        "!pip install autocorrect\n",
        "from autocorrect import Speller\n",
        "from collections import OrderedDict \n",
        "from pathlib import Path\n",
        "import shutil\n",
        "import spacy \n",
        "import re\n",
        "nltk.download('wordnet')\n",
        "nltk.download('stopwords')\n",
        "!pip install contractions\n",
        "!pip install spacy\n",
        "!pip install textblob\n",
        "import contractions\n",
        "from textblob import TextBlob, Word\n",
        "import pandas as pd\n",
        "import numpy as np\n",
        "import ast"
      ],
      "execution_count": 4,
      "outputs": [
        {
          "output_type": "stream",
          "text": [
            "Collecting autocorrect\n",
            "\u001b[?25l  Downloading https://files.pythonhosted.org/packages/08/ba/c1a61e1ad64f62b29a53dc55cec451ded52eb6084a5822566cc41d01a578/autocorrect-2.4.0.tar.gz (622kB)\n",
            "\u001b[K     |████████████████████████████████| 624kB 5.5MB/s \n",
            "\u001b[?25hBuilding wheels for collected packages: autocorrect\n",
            "  Building wheel for autocorrect (setup.py) ... \u001b[?25l\u001b[?25hdone\n",
            "  Created wheel for autocorrect: filename=autocorrect-2.4.0-cp37-none-any.whl size=621775 sha256=b8d1b0e9b9147fde9c58816123adf001bd96f21d3481c98fe026c485cbc42c80\n",
            "  Stored in directory: /root/.cache/pip/wheels/1d/b0/d4/b941891ad0f8d8847be03583e21e68ed4732d763c71a6c0943\n",
            "Successfully built autocorrect\n",
            "Installing collected packages: autocorrect\n",
            "Successfully installed autocorrect-2.4.0\n",
            "[nltk_data] Downloading package wordnet to /root/nltk_data...\n",
            "[nltk_data]   Unzipping corpora/wordnet.zip.\n",
            "[nltk_data] Downloading package stopwords to /root/nltk_data...\n",
            "[nltk_data]   Unzipping corpora/stopwords.zip.\n",
            "Collecting contractions\n",
            "  Downloading https://files.pythonhosted.org/packages/0a/04/d5e0bb9f2cef5d15616ebf68087a725c5dbdd71bd422bcfb35d709f98ce7/contractions-0.0.48-py2.py3-none-any.whl\n",
            "Collecting textsearch>=0.0.21\n",
            "  Downloading https://files.pythonhosted.org/packages/d3/fe/021d7d76961b5ceb9f8d022c4138461d83beff36c3938dc424586085e559/textsearch-0.0.21-py2.py3-none-any.whl\n",
            "Collecting pyahocorasick\n",
            "\u001b[?25l  Downloading https://files.pythonhosted.org/packages/7f/c2/eae730037ae1cbbfaa229d27030d1d5e34a1e41114b21447d1202ae9c220/pyahocorasick-1.4.2.tar.gz (321kB)\n",
            "\u001b[K     |████████████████████████████████| 327kB 5.3MB/s \n",
            "\u001b[?25hCollecting anyascii\n",
            "\u001b[?25l  Downloading https://files.pythonhosted.org/packages/09/c7/61370d9e3c349478e89a5554c1e5d9658e1e3116cc4f2528f568909ebdf1/anyascii-0.1.7-py3-none-any.whl (260kB)\n",
            "\u001b[K     |████████████████████████████████| 266kB 11.4MB/s \n",
            "\u001b[?25hBuilding wheels for collected packages: pyahocorasick\n",
            "  Building wheel for pyahocorasick (setup.py) ... \u001b[?25l\u001b[?25hdone\n",
            "  Created wheel for pyahocorasick: filename=pyahocorasick-1.4.2-cp37-cp37m-linux_x86_64.whl size=85400 sha256=25b3c14614544b389e3c177cc379799d1d95ee15a6f8894c9d940d996a7f99bf\n",
            "  Stored in directory: /root/.cache/pip/wheels/3a/03/34/77e3ece0bba8b86bfac88a79f923b36d805cad63caeba38842\n",
            "Successfully built pyahocorasick\n",
            "Installing collected packages: pyahocorasick, anyascii, textsearch, contractions\n",
            "Successfully installed anyascii-0.1.7 contractions-0.0.48 pyahocorasick-1.4.2 textsearch-0.0.21\n",
            "Requirement already satisfied: spacy in /usr/local/lib/python3.7/dist-packages (2.2.4)\n",
            "Requirement already satisfied: blis<0.5.0,>=0.4.0 in /usr/local/lib/python3.7/dist-packages (from spacy) (0.4.1)\n",
            "Requirement already satisfied: tqdm<5.0.0,>=4.38.0 in /usr/local/lib/python3.7/dist-packages (from spacy) (4.41.1)\n",
            "Requirement already satisfied: numpy>=1.15.0 in /usr/local/lib/python3.7/dist-packages (from spacy) (1.19.5)\n",
            "Requirement already satisfied: cymem<2.1.0,>=2.0.2 in /usr/local/lib/python3.7/dist-packages (from spacy) (2.0.5)\n",
            "Requirement already satisfied: plac<1.2.0,>=0.9.6 in /usr/local/lib/python3.7/dist-packages (from spacy) (1.1.3)\n",
            "Requirement already satisfied: catalogue<1.1.0,>=0.0.7 in /usr/local/lib/python3.7/dist-packages (from spacy) (1.0.0)\n",
            "Requirement already satisfied: wasabi<1.1.0,>=0.4.0 in /usr/local/lib/python3.7/dist-packages (from spacy) (0.8.2)\n",
            "Requirement already satisfied: setuptools in /usr/local/lib/python3.7/dist-packages (from spacy) (54.2.0)\n",
            "Requirement already satisfied: srsly<1.1.0,>=1.0.2 in /usr/local/lib/python3.7/dist-packages (from spacy) (1.0.5)\n",
            "Requirement already satisfied: murmurhash<1.1.0,>=0.28.0 in /usr/local/lib/python3.7/dist-packages (from spacy) (1.0.5)\n",
            "Requirement already satisfied: requests<3.0.0,>=2.13.0 in /usr/local/lib/python3.7/dist-packages (from spacy) (2.23.0)\n",
            "Requirement already satisfied: preshed<3.1.0,>=3.0.2 in /usr/local/lib/python3.7/dist-packages (from spacy) (3.0.5)\n",
            "Requirement already satisfied: thinc==7.4.0 in /usr/local/lib/python3.7/dist-packages (from spacy) (7.4.0)\n",
            "Requirement already satisfied: importlib-metadata>=0.20; python_version < \"3.8\" in /usr/local/lib/python3.7/dist-packages (from catalogue<1.1.0,>=0.0.7->spacy) (3.10.0)\n",
            "Requirement already satisfied: certifi>=2017.4.17 in /usr/local/lib/python3.7/dist-packages (from requests<3.0.0,>=2.13.0->spacy) (2020.12.5)\n",
            "Requirement already satisfied: urllib3!=1.25.0,!=1.25.1,<1.26,>=1.21.1 in /usr/local/lib/python3.7/dist-packages (from requests<3.0.0,>=2.13.0->spacy) (1.24.3)\n",
            "Requirement already satisfied: chardet<4,>=3.0.2 in /usr/local/lib/python3.7/dist-packages (from requests<3.0.0,>=2.13.0->spacy) (3.0.4)\n",
            "Requirement already satisfied: idna<3,>=2.5 in /usr/local/lib/python3.7/dist-packages (from requests<3.0.0,>=2.13.0->spacy) (2.10)\n",
            "Requirement already satisfied: typing-extensions>=3.6.4; python_version < \"3.8\" in /usr/local/lib/python3.7/dist-packages (from importlib-metadata>=0.20; python_version < \"3.8\"->catalogue<1.1.0,>=0.0.7->spacy) (3.7.4.3)\n",
            "Requirement already satisfied: zipp>=0.5 in /usr/local/lib/python3.7/dist-packages (from importlib-metadata>=0.20; python_version < \"3.8\"->catalogue<1.1.0,>=0.0.7->spacy) (3.4.1)\n",
            "Requirement already satisfied: textblob in /usr/local/lib/python3.7/dist-packages (0.15.3)\n",
            "Requirement already satisfied: nltk>=3.1 in /usr/local/lib/python3.7/dist-packages (from textblob) (3.2.5)\n",
            "Requirement already satisfied: six in /usr/local/lib/python3.7/dist-packages (from nltk>=3.1->textblob) (1.15.0)\n"
          ],
          "name": "stdout"
        }
      ]
    },
    {
      "cell_type": "code",
      "metadata": {
        "id": "PLCTTrQgPp5I"
      },
      "source": [
        "paths = []\n",
        "filename = []\n",
        "for (dirpath, dirnames, filenames) in os.walk(\"/content/drive/MyDrive/Classroom/CSE508: Information Retrieval/Assignment 2/stories\"):\n",
        "  for i in filenames:\n",
        "    paths.append(str(dirpath)+str(\"/\")+i)\n",
        "    filename.append(i)"
      ],
      "execution_count": null,
      "outputs": []
    },
    {
      "cell_type": "code",
      "metadata": {
        "id": "5j2U0GGcJoWu"
      },
      "source": [
        "#Rahul's cell\n",
        "paths = []\n",
        "filename = []\n",
        "# /content/drive/MyDrive/stories\n",
        "# /content/drive/MyDrive/IR ASSIGNMENT 2/stories\n",
        "for (dirpath, dirnames, filenames) in os.walk(\"/content/drive/MyDrive/stories\"):\n",
        "  for i in filenames:\n",
        "    paths.append(str(dirpath)+str(\"/\")+i)\n",
        "    filename.append(i)"
      ],
      "execution_count": 5,
      "outputs": []
    },
    {
      "cell_type": "code",
      "metadata": {
        "id": "VJByazSI7yFb"
      },
      "source": [
        "documentsDict = {}\n",
        "# filenameOfDoc = {}\n",
        "# global counter \n",
        "# counter = 0\n",
        "def cleaning(filepath,filename,flag):\n",
        "  if(flag==1):\n",
        "    f = open(filepath, 'r', errors = 'ignore',encoding='cp1250').read().strip()\n",
        "    clean_S = contractions.fix(f)\n",
        "    clean_S=re.sub(\"([\\-]{1,2})\", \" \",clean_S)\n",
        "    clean_s=re.sub(\"[\\,]\", \" \",clean_S)\n",
        "    clean_S = re.sub(\"[\\.]\",\" \",clean_S)\n",
        "    clean_S = re.sub(r'[\\!@#$%^&\\*()\\_+={}\\:\\;<>\\?/\\|\\-/\"\\']*',\"\", clean_S)  #junk symbols\n",
        "    # clean_S = re.sub(r\"(.)\\1{2}\",\"\",clean_S)  #for elongated words\n",
        "    clean_S=re.sub(\"([\\.\\!]{2})\", \" \",clean_S)  #removing punctuations\n",
        "    clean_S = re.sub('\\s+', ' ', clean_S)    \n",
        "    clean_S=re.sub(\"[^a-zA-Z\\s\\n]\", \" \",clean_S)  #used to eliminate non-ascii and numeric symbols \n",
        "    clean_S = re.sub(r\"(.)\\1{2}\",\"\",clean_S)  #for elongated words\n",
        "    clean_S = clean_S.lower()\n",
        "    documentsDict[filename]=clean_S\n",
        "    # counter = counter+1\n",
        "    # filenameOfDoc[counter] = filename\n",
        "\n",
        "  elif(flag==0):\n",
        "    filepath = contractions.fix(filepath)\n",
        "    filepath=re.sub(\"([\\-]{1,2})\", \" \",filepath)\n",
        "    filepath=re.sub(\"[0-9]\", \"\",filepath)\n",
        "    # filepath=re.sub(\"[\\,]\", \" \",filepath)\n",
        "    filepath = re.sub(r'[\\!@#$%^&\\*()\\_+={}\\:\\;<>\\?/\\|\\-/\"\\']*',\"\", filepath)\n",
        "    # filepath = re.sub(r\"(.)\\1{2}\",\"\",filepath)  #for elongated words\n",
        "    filepath=re.sub(\"([\\.\\!]{2})\", \" \",filepath)\n",
        "    filepath = re.sub('\\s+', ' ', filepath)\n",
        "    filepath=re.sub(\"[^a-zA-Z\\s\\n]\", \" \",filepath)\n",
        "    filepath = re.sub(r\"(.)\\1{2}\",\"\",filepath)  #for elongated words\n",
        "    filepath = filepath.lower()\n",
        "    return filepath"
      ],
      "execution_count": 2,
      "outputs": []
    },
    {
      "cell_type": "code",
      "metadata": {
        "id": "oAjJb8Ng7yIk"
      },
      "source": [
        "for i in range(0,len(filename)):\n",
        "       cleaning(paths[i],filename[i],1)"
      ],
      "execution_count": 6,
      "outputs": []
    },
    {
      "cell_type": "code",
      "metadata": {
        "id": "_o5lQlq97yK8",
        "colab": {
          "base_uri": "https://localhost:8080/"
        },
        "outputId": "7dd968a8-8b60-40e5-fa1a-90159545507f"
      },
      "source": [
        "len(documentsDict)"
      ],
      "execution_count": 8,
      "outputs": [
        {
          "output_type": "execute_result",
          "data": {
            "text/plain": [
              "467"
            ]
          },
          "metadata": {
            "tags": []
          },
          "execution_count": 8
        }
      ]
    },
    {
      "cell_type": "code",
      "metadata": {
        "id": "NsM69uxU7yNI"
      },
      "source": [
        "f = open('cleanedForJaccard.txt', 'w')\n",
        "f.write(str(documentsDict))\n",
        "f.close()"
      ],
      "execution_count": 23,
      "outputs": []
    },
    {
      "cell_type": "code",
      "metadata": {
        "id": "w-L3McGTNyEU"
      },
      "source": [
        "f = open('cleanedForJaccard.txt', 'r')\n",
        "documentsDict = f.read()\n",
        "documentsDict = ast.literal_eval(documentsDict)\n",
        "f.close()\n",
        "documentsFilename = list(documentsDict.keys())"
      ],
      "execution_count": 29,
      "outputs": []
    },
    {
      "cell_type": "code",
      "metadata": {
        "id": "2bSysH0J7yRI"
      },
      "source": [
        "def gen_token(flag,query):\n",
        "  tokenizer = RegexpTokenizer(r'\\w+')\n",
        "  if(flag==1):\n",
        "    for docname in documentsDict:\n",
        "        documentsDict[docname] = tokenizer.tokenize(str(documentsDict[docname]))\n",
        "\n",
        "  elif(flag==0):\n",
        "    query = tokenizer.tokenize(query)\n",
        "    return query\n",
        "\n",
        "def remove_stopword(flag,query):\n",
        "  stopwordsList = stopwords.words('english')\n",
        "  if(flag==1):\n",
        "    for docname in documentsDict:\n",
        "        for word in documentsDict[docname]:\n",
        "            if word in stopwordsList:\n",
        "                documentsDict[docname].remove(word)\n",
        "  elif(flag==0):\n",
        "      q=[]\n",
        "      for word in query:\n",
        "            if word not in stopwordsList:\n",
        "              q.append(word)\n",
        "      query=q.copy()\n",
        "      return query\n",
        "\n",
        "def normalise_using_textblob(flag,query):\n",
        "  if(flag==1):       \n",
        "    for docname in documentsDict:\n",
        "        dataList = []\n",
        "        for word in documentsDict[docname]:\n",
        "            w = Word(word)\n",
        "            dataList.append(w.lemmatize())\n",
        "        documentsDict[docname] = dataList   \n",
        "\n",
        "  elif(flag==0):\n",
        "    ans = []\n",
        "    for word in query:\n",
        "      w=Word(word)\n",
        "      ans.append(w.lemmatize())\n",
        "    return ans"
      ],
      "execution_count": 9,
      "outputs": []
    },
    {
      "cell_type": "code",
      "metadata": {
        "id": "RjVwM7k4KEuR"
      },
      "source": [
        "def proquery(query):\n",
        "  queryFinal=[]\n",
        "  query = cleaning(query,\" \",0)\n",
        "  queryFinal = gen_token(0,query)\n",
        "  queryFinal = remove_stopword(0,queryFinal)\n",
        "  queryFinal = normalise_using_textblob(0,queryFinal)\n",
        "  #queryFinal = queryFinal.replace(\",\",\" \").split()\n",
        "  return queryFinal"
      ],
      "execution_count": 10,
      "outputs": []
    },
    {
      "cell_type": "code",
      "metadata": {
        "id": "_WxX7Gyu7yTO"
      },
      "source": [
        "gen_token( 1 , \" \" )\n",
        "remove_stopword(1,\"\")\n",
        "normalise_using_textblob(1,\"\")"
      ],
      "execution_count": 11,
      "outputs": []
    },
    {
      "cell_type": "code",
      "metadata": {
        "id": "Dvv1yKwX7yZU"
      },
      "source": [
        ""
      ],
      "execution_count": 14,
      "outputs": []
    },
    {
      "cell_type": "code",
      "metadata": {
        "id": "BzoosYMXxhrO"
      },
      "source": [
        "\n",
        "def jaccard_similarity(list1, list2):\n",
        "    s1 = set(list1)\n",
        "    s2 = set(list2)\n",
        "    return float(len(s1.intersection(s2)) / len(s1.union(s2)))\n",
        "\n",
        "document_list = []\n",
        "document_name_list = []\n",
        "def jaccard_on_documents(documentsDict,query):\n",
        "  jaccard_similar_list = []\n",
        "\n",
        "  for i in documentsDict.keys():\n",
        "    document_name_list.append(i)\n",
        "    document_list.append(documentsDict[i])\n",
        "    jaccard_similar_list.append(jaccard_similarity(documentsDict[i],query))\n",
        "\n",
        "  top_jaccard_pos = []\n",
        "\n",
        "  max1 = 0\n",
        "  pos1 = 0\n",
        "\n",
        "  for i in range(5):\n",
        "    max1 = 0\n",
        "    pos1 = 0\n",
        "    for j in range(0,len(jaccard_similar_list)):\n",
        "      flag = 0\n",
        "      for k in range(len(top_jaccard_pos)):\n",
        "        if j==top_jaccard_pos[k]:\n",
        "          flag = 1\n",
        "      if flag == 0:\n",
        "        temp = jaccard_similar_list[j]\n",
        "        if(temp>max1):\n",
        "          max1 = temp\n",
        "          pos1 = j\n",
        "    max1\n",
        "    pos1\n",
        "    top_jaccard_pos.append(pos1)\n",
        "  return top_jaccard_pos\n",
        "\n",
        "\n",
        "\n"
      ],
      "execution_count": 18,
      "outputs": []
    },
    {
      "cell_type": "code",
      "metadata": {
        "colab": {
          "base_uri": "https://localhost:8080/"
        },
        "id": "5YG8hijmMOgO",
        "outputId": "03de5ae6-532f-4516-9361-b1ccf82de200"
      },
      "source": [
        "query = \"THE CRAB AND THE HERON\"\n",
        "tokenquery = proquery(query)\n",
        "top_jaccard_pos = jaccard_on_documents(documentsDict,tokenquery)\n",
        "# print(top_jaccard_pos)\n",
        "print(\"Entered Query: \"+ str(tokenquery))\n",
        "print(\"Top 5 Documents Retrieved\")\n",
        "for i in top_jaccard_pos:\n",
        "  # print(i)\n",
        "  # print(document_list[i])\n",
        "  print(document_name_list[i])"
      ],
      "execution_count": 30,
      "outputs": [
        {
          "output_type": "stream",
          "text": [
            "Entered Query: ['crab', 'heron']\n",
            "Top 5 Documents Retrieved\n",
            "crabhern.txt\n",
            "aesopa10.txt\n",
            "long1-3.txt\n",
            "aesop11.txt\n",
            "fgoose.txt\n"
          ],
          "name": "stdout"
        }
      ]
    },
    {
      "cell_type": "code",
      "metadata": {
        "colab": {
          "base_uri": "https://localhost:8080/"
        },
        "id": "KUum9rewJQUU",
        "outputId": "6ecff725-e726-4861-8978-cb07b7f70866"
      },
      "source": [
        "from google.colab import drive\n",
        "drive.mount('/content/drive')"
      ],
      "execution_count": 1,
      "outputs": [
        {
          "output_type": "stream",
          "text": [
            "Mounted at /content/drive\n"
          ],
          "name": "stdout"
        }
      ]
    },
    {
      "cell_type": "code",
      "metadata": {
        "id": "hDiOYPpaa8Qm"
      },
      "source": [
        ""
      ],
      "execution_count": null,
      "outputs": []
    },
    {
      "cell_type": "code",
      "metadata": {
        "id": "0Ci4uLfiBjRk"
      },
      "source": [
        ""
      ],
      "execution_count": null,
      "outputs": []
    },
    {
      "cell_type": "code",
      "metadata": {
        "id": "kOfOy3UNBjVo"
      },
      "source": [
        ""
      ],
      "execution_count": null,
      "outputs": []
    },
    {
      "cell_type": "code",
      "metadata": {
        "id": "3ddnxp2VBjYN"
      },
      "source": [
        ""
      ],
      "execution_count": null,
      "outputs": []
    },
    {
      "cell_type": "code",
      "metadata": {
        "id": "Mfk_YoLYBjZy"
      },
      "source": [
        ""
      ],
      "execution_count": null,
      "outputs": []
    },
    {
      "cell_type": "code",
      "metadata": {
        "id": "cKxp79OLBjbu"
      },
      "source": [
        ""
      ],
      "execution_count": null,
      "outputs": []
    },
    {
      "cell_type": "markdown",
      "metadata": {
        "id": "tXXultcOO4jX"
      },
      "source": [
        "#Cosine part in Q2_TFIDF file"
      ]
    },
    {
      "cell_type": "code",
      "metadata": {
        "id": "ZUCgudcUBjdn"
      },
      "source": [
        "#COSINE MOVOED TO ANOTHER FILE"
      ],
      "execution_count": null,
      "outputs": []
    },
    {
      "cell_type": "code",
      "metadata": {
        "id": "9Rj9jI06bQTM"
      },
      "source": [
        "#I need these two things to show Cosine similarity and find top 5 documents\n",
        "documentsDict\n",
        "list2 = ['the', 'vigilante', 'hello', 'greetings', 'salutations']"
      ],
      "execution_count": null,
      "outputs": []
    },
    {
      "cell_type": "code",
      "metadata": {
        "colab": {
          "base_uri": "https://localhost:8080/"
        },
        "id": "IdffWy4ubeG1",
        "outputId": "d1b8487a-1a12-41f2-8f2a-2a306e77e0a4"
      },
      "source": [
        "document_list = []\n",
        "def cosine_on_documents(documentsDict,query):\n",
        "  cosine_similar_list = []\n",
        "\n",
        "  for i in documentsDict.keys():\n",
        "    document_list.append(documentsDict[i])\n",
        "\n",
        "    X_set = set()\n",
        "    Y_set = set()\n",
        "    for j in documentsDict[i]:\n",
        "      X_set.add(j)\n",
        "    for j in query:\n",
        "      Y_set.add(j)\n",
        "\n",
        "    rvector = X_set.union(Y_set) \n",
        "\n",
        "    l1 =[]\n",
        "    l2 =[]\n",
        "    for w in rvector:\n",
        "        if w in X_set: l1.append(1) # create a vector\n",
        "        else: l1.append(0)\n",
        "        if w in Y_set: l2.append(1)\n",
        "        else: l2.append(0)\n",
        "    c = 0\n",
        "      \n",
        "    # cosine formula \n",
        "    for i in range(len(rvector)):\n",
        "            c+= l1[i]*l2[i]\n",
        "    cosine = c / float((sum(l1)*sum(l2))**0.5)\n",
        "    cosine_similar_list.append(cosine)\n",
        "  return cosine_similar_list\n",
        "\n",
        "cosine_similar_list = cosine_on_documents(documentsDict,list2)\n",
        "cosine_similar_list"
      ],
      "execution_count": null,
      "outputs": [
        {
          "output_type": "execute_result",
          "data": {
            "text/plain": [
              "[0.017650112740455196,\n",
              " 0.015861031714362882,\n",
              " 0.042835293687811936,\n",
              " 0.019706585563285865,\n",
              " 0.016043698370396316,\n",
              " 0.03907323325822818,\n",
              " 0.006442903104588024,\n",
              " 0.018569533817705187,\n",
              " 0.012524485821702989,\n",
              " 0.01771924779845835,\n",
              " 0.02654893246399888,\n",
              " 0.01405109839972998,\n",
              " 0.02507849312877596,\n",
              " 0.0158810204201071,\n",
              " 0.017460757394239454,\n",
              " 0.035245368842512066,\n",
              " 0.016552117772047358,\n",
              " 0.017650112740455196,\n",
              " 0.028912724941310364,\n",
              " 0.02082881368183567,\n",
              " 0.030015011259383207,\n",
              " 0.011278574072347185,\n",
              " 0.015343813327075089,\n",
              " 0.007765014339568158,\n",
              " 0.024701609087778548,\n",
              " 0.0173421993904824,\n",
              " 0.022587697572631283,\n",
              " 0.015168500428005318,\n",
              " 0.020327890704543543,\n",
              " 0.028973338686962963,\n",
              " 0.007220640094792102,\n",
              " 0.023973165074269207,\n",
              " 0.021952851997938068,\n",
              " 0.01409289650415634,\n",
              " 0.019480930197663147,\n",
              " 0.034001020045902296,\n",
              " 0.03793216209054408,\n",
              " 0.023735633163877067,\n",
              " 0.018077538151554683,\n",
              " 0.018601633295108114,\n",
              " 0.04624972900628803,\n",
              " 0.031008683647302117,\n",
              " 0.022167554926073633,\n",
              " 0.03154401489382559,\n",
              " 0.022645540682891915,\n",
              " 0.010408763704854128,\n",
              " 0.03131121455425748,\n",
              " 0.013176156917368247,\n",
              " 0.016927284226638313,\n",
              " 0.019706585563285865,\n",
              " 0.024922239313961342,\n",
              " 0.020161945963637795,\n",
              " 0.030499714066520935,\n",
              " 0.0209026246199415,\n",
              " 0.034401045807689073,\n",
              " 0.015941443036912015,\n",
              " 0.035028472205202936,\n",
              " 0.019668431441216497,\n",
              " 0.008617808141029165,\n",
              " 0.0162435292576479,\n",
              " 0.01679545912169726,\n",
              " 0.013074409009212268,\n",
              " 0.014314958357846706,\n",
              " 0.014351767259851572,\n",
              " 0.02000500187578159,\n",
              " 0.01353949987365108,\n",
              " 0.015411998287418845,\n",
              " 0.010355607461569955,\n",
              " 0.009843740386976971,\n",
              " 0.045407660918649985,\n",
              " 0.016158484017509977,\n",
              " 0.02480694691784169,\n",
              " 0.023002185311411807,\n",
              " 0.010327955589886445,\n",
              " 0.008408112697716678,\n",
              " 0.033614632272640714,\n",
              " 0.015523010514126658,\n",
              " 0.02147931598059475,\n",
              " 0.019783564706223267,\n",
              " 0.04343722427630694,\n",
              " 0.03688555567816588,\n",
              " 0.03450327796711771,\n",
              " 0.020541200750444025,\n",
              " 0.04564354645876384,\n",
              " 0.03922322702763681,\n",
              " 0.009879705944808323,\n",
              " 0.02039118475715464,\n",
              " 0.03071475584169756,\n",
              " 0.014744195615489713,\n",
              " 0.05270462766947299,\n",
              " 0.02994763741177399,\n",
              " 0.04588314677411235,\n",
              " 0.04662524041201569,\n",
              " 0.023312620206007845,\n",
              " 0.01889822365046136,\n",
              " 0.025237723256253435,\n",
              " 0.008356578380810945,\n",
              " 0.021417646843905968,\n",
              " 0.012893837251531997,\n",
              " 0.03253000243161777,\n",
              " 0.033149677206589796,\n",
              " 0.031943828249996996,\n",
              " 0.03202563076101743,\n",
              " 0.01042005916526391,\n",
              " 0.020444383868581984,\n",
              " 0.01990074380419978,\n",
              " 0.027708379934922978,\n",
              " 0.016222142113076255,\n",
              " 0.02221536668535625,\n",
              " 0.016439898730535727,\n",
              " 0.013122161870541526,\n",
              " 0.02657235455277488,\n",
              " 0.016609095970747993,\n",
              " 0.03235924008452868,\n",
              " 0.015607862099528717,\n",
              " 0.011736313170325505,\n",
              " 0.06666666666666667,\n",
              " 0.018601633295108114,\n",
              " 0.044721359549995794,\n",
              " 0.04040610178208843,\n",
              " 0.01602308988614113,\n",
              " 0.02817180849095055,\n",
              " 0.02022369785697524,\n",
              " 0.034099716973523674,\n",
              " 0.022881438097813775,\n",
              " 0.007909402552227782,\n",
              " 0.00922924025252575,\n",
              " 0.0062023331363213925,\n",
              " 0.03115884764248779,\n",
              " 0.009962709627734358,\n",
              " 0.023124864503144014,\n",
              " 0.010411584125907071,\n",
              " 0.017062262896177707,\n",
              " 0.02988071523335984,\n",
              " 0.016634928849702343,\n",
              " 0.008219949365267864,\n",
              " 0.015598365376958256,\n",
              " 0.029897403710077434,\n",
              " 0.009476651050474804,\n",
              " 0.022645540682891915,\n",
              " 0.016232825118589134,\n",
              " 0.024845199749997663,\n",
              " 0.01389425035941821,\n",
              " 0.021491713855208944,\n",
              " 0.014532489181701183,\n",
              " 0.02458108230429969,\n",
              " 0.026537244621713762,\n",
              " 0.020498001542269693,\n",
              " 0.02817180849095055,\n",
              " 0.019334729780913273,\n",
              " 0.03820803599504351,\n",
              " 0.021152477232345077,\n",
              " 0.023312620206007845,\n",
              " 0.017394592861488423,\n",
              " 0.031702131247412065,\n",
              " 0.018617745583356375,\n",
              " 0.02110531445965636,\n",
              " 0.019687480773953943,\n",
              " 0.0177646236673731,\n",
              " 0.026584088867567534,\n",
              " 0.02154152090660819,\n",
              " 0.019783564706223267,\n",
              " 0.015393726795176981,\n",
              " 0.011876183038093588,\n",
              " 0.02060651474913109,\n",
              " 0.02387049580131443,\n",
              " 0.04264014327112208,\n",
              " 0.01689102438301362,\n",
              " 0.08606629658238704,\n",
              " 0.03383034335646913,\n",
              " 0.056455743693763674,\n",
              " 0.02124775914356676,\n",
              " 0.03460642701029914,\n",
              " 0.019841894753313626,\n",
              " 0.02156655464068768,\n",
              " 0.014816847443597765,\n",
              " 0.017487435419566724,\n",
              " 0.012588828594761015,\n",
              " 0.01441874501821181,\n",
              " 0.015772007446912796,\n",
              " 0.010505963827188339,\n",
              " 0.02060651474913109,\n",
              " 0.010672170182343942,\n",
              " 0.029049644688706338,\n",
              " 0.011315519126906889,\n",
              " 0.010705754551443784,\n",
              " 0.02577696311132335,\n",
              " 0.018633899812498248,\n",
              " 0.02043371073610381,\n",
              " 0.0404888165089458,\n",
              " 0.011805626722019104,\n",
              " 0.022587697572631283,\n",
              " 0.011867816581938534,\n",
              " 0.02469323991623974,\n",
              " 0.005508575954149483,\n",
              " 0.014563278388210303,\n",
              " 0.015617376188860606,\n",
              " 0.011612999900505624,\n",
              " 0.02507849312877596,\n",
              " 0.016462159944159827,\n",
              " 0.011791255899014806,\n",
              " 0.01005800073855902,\n",
              " 0.017407765595569783,\n",
              " 0.021873931962990357,\n",
              " 0.03342631352324378,\n",
              " 0.023249527748763855,\n",
              " 0.028556862458541287,\n",
              " 0.021223817998900444,\n",
              " 0.026678526425610406,\n",
              " 0.05345224838248487,\n",
              " 0.04116934847963091,\n",
              " 0.020716769761626043,\n",
              " 0.03450327796711771,\n",
              " 0.025278006958277935,\n",
              " 0.030151134457776358,\n",
              " 0.025734250632748937,\n",
              " 0.015941443036912015,\n",
              " 0.0177611208331347,\n",
              " 0.01007074368138451,\n",
              " 0.010073298086924991,\n",
              " 0.033149677206589796,\n",
              " 0.019480930197663147,\n",
              " 0.01782803121102672,\n",
              " 0.021952851997938068,\n",
              " 0.014314958357846706,\n",
              " 0.01432964790338226,\n",
              " 0.015109947130387486,\n",
              " 0.01105579985645564,\n",
              " 0.011304668378884431,\n",
              " 0.02817180849095055,\n",
              " 0.028116077855776665,\n",
              " 0.027735009811261455,\n",
              " 0.013357100434786648,\n",
              " 0.02716629124620806,\n",
              " 0.04714045207910317,\n",
              " 0.021952851997938068,\n",
              " 0.014563278388210303,\n",
              " 0.015348330863851047,\n",
              " 0.00589460360270973,\n",
              " 0.01665510463498261,\n",
              " 0.024655683636076897,\n",
              " 0.020965696734438367,\n",
              " 0.01375065800621469,\n",
              " 0.013573757432403055,\n",
              " 0.022651995162339754,\n",
              " 0.009642614235672862,\n",
              " 0.014768294017212823,\n",
              " 0.021591675854376522,\n",
              " 0.010755175492958086,\n",
              " 0.03342631352324378,\n",
              " 0.03419927840283847,\n",
              " 0.01663205257599714,\n",
              " 0.027066598098038335,\n",
              " 0.01730321350514957,\n",
              " 0.024325212770525996,\n",
              " 0.026082026547865053,\n",
              " 0.01095007199696007,\n",
              " 0.02018246703354378,\n",
              " 0.02062842492517587,\n",
              " 0.023249527748763855,\n",
              " 0.04740454631399772,\n",
              " 0.0178849671841893,\n",
              " 0.023769134427076417,\n",
              " 0.02337622911060922,\n",
              " 0.012893837251531997,\n",
              " 0.029235267310234306,\n",
              " 0.029424494316824982,\n",
              " 0.031008683647302117,\n",
              " 0.019138975058773818,\n",
              " 0.013646235352373378,\n",
              " 0.024618298195866545,\n",
              " 0.029617443887954616,\n",
              " 0.03146583877637763,\n",
              " 0.012633958975454041,\n",
              " 0.019138975058773818,\n",
              " 0.023101712622315605,\n",
              " 0.02363597296235327,\n",
              " 0.029361010975735173,\n",
              " 0.01632993161855452,\n",
              " 0.03244428422615251,\n",
              " 0.021442250696755896,\n",
              " 0.01052340112354782,\n",
              " 0.023218173010628604,\n",
              " 0.014456362470655182,\n",
              " 0.03235924008452868,\n",
              " 0.032791291789197645,\n",
              " 0.030934411244487297,\n",
              " 0.03324112476572668,\n",
              " 0.010830607221477648,\n",
              " 0.030151134457776358,\n",
              " 0.010327955589886445,\n",
              " 0.019822394114938212,\n",
              " 0.008782410637093584,\n",
              " 0.019389168358237032,\n",
              " 0.025,\n",
              " 0.029361010975735173,\n",
              " 0.017025130615174973,\n",
              " 0.01583118967153259,\n",
              " 0.010494387004027836,\n",
              " 0.02039118475715464,\n",
              " 0.0291111254869791,\n",
              " 0.019082266859878225,\n",
              " 0.024470439211619822,\n",
              " 0.018333969940564226,\n",
              " 0.030624603736939173,\n",
              " 0.014965432360392486,\n",
              " 0.013880858307767148,\n",
              " 0.015982110049512804,\n",
              " 0.006093710575486358,\n",
              " 0.00999250842696695,\n",
              " 0.01353949987365108,\n",
              " 0.014633275857190481,\n",
              " 0.02022369785697524,\n",
              " 0.015772007446912796,\n",
              " 0.02507849312877596,\n",
              " 0.009478779439283332,\n",
              " 0.02649064714130088,\n",
              " 0.00888406428745396,\n",
              " 0.022703830459324992,\n",
              " 0.023973165074269207,\n",
              " 0.010573282295048069,\n",
              " 0.0177611208331347,\n",
              " 0.025819888974716113,\n",
              " 0.011676157401734314,\n",
              " 0.017917234365811652,\n",
              " 0.02022369785697524,\n",
              " 0.01157792111618723,\n",
              " 0.025523828044507795,\n",
              " 0.012078034628861947,\n",
              " 0.020806259464411975,\n",
              " 0.013297919370836938,\n",
              " 0.030787453590353963,\n",
              " 0.031943828249996996,\n",
              " 0.005877270993842333,\n",
              " 0.010249000771134846,\n",
              " 0.010705754551443784,\n",
              " 0.01281945932506583,\n",
              " 0.03208739674079263,\n",
              " 0.011414602910706992,\n",
              " 0.017316179571791195,\n",
              " 0.03021989426077497,\n",
              " 0.02421797398482414,\n",
              " 0.015791661046371634,\n",
              " 0.029297936765452382,\n",
              " 0.016002560614563885,\n",
              " 0.027317918235407655,\n",
              " 0.02047650389446504,\n",
              " 0.028927842707018585,\n",
              " 0.03952847075210474,\n",
              " 0.008071343122712616,\n",
              " 0.016308201826336056,\n",
              " 0.021176177494381335,\n",
              " 0.008695652173913044,\n",
              " 0.023063280200722125,\n",
              " 0.013755535567588148,\n",
              " 0.02171861213815347,\n",
              " 0.017074694419062765,\n",
              " 0.017663875013688813,\n",
              " 0.02010075630518424,\n",
              " 0.017407765595569783,\n",
              " 0.036214298417007414,\n",
              " 0.028988551782622423,\n",
              " 0.0282842712474619,\n",
              " 0.029552706228277083,\n",
              " 0.01796053020267749,\n",
              " 0.02282177322938192,\n",
              " 0.04084374256560634,\n",
              " 0.027369027575198667,\n",
              " 0.01533929977694741,\n",
              " 0.006808079175697976,\n",
              " 0.024397501823713332,\n",
              " 0.02400768368836718,\n",
              " 0.029235267310234306,\n",
              " 0.024042351841717248,\n",
              " 0.021058465757133063,\n",
              " 0.02994763741177399,\n",
              " 0.013327411355100583,\n",
              " 0.017677669529663688,\n",
              " 0.03460642701029914,\n",
              " 0.014494275891311212,\n",
              " 0.025482359571881278,\n",
              " 0.017434201093860166,\n",
              " 0.03108349360801046,\n",
              " 0.02110531445965636,\n",
              " 0.032879797461071454,\n",
              " 0.03546634510659543,\n",
              " 0.03301391004002389,\n",
              " 0.024433888871261047,\n",
              " 0.01613743060919757,\n",
              " 0.026631182064565374,\n",
              " 0.0280056016805602,\n",
              " 0.02363597296235327,\n",
              " 0.02297181937696983,\n",
              " 0.026584088867567534,\n",
              " 0.026584088867567534,\n",
              " 0.04303314829119352,\n",
              " 0.020896918976428647,\n",
              " 0.03342631352324378,\n",
              " 0.02535915646704869,\n",
              " 0.04095300778893008,\n",
              " 0.02387049580131443,\n",
              " 0.028513297425610054,\n",
              " 0.015168500428005318,\n",
              " 0.02363597296235327,\n",
              " 0.02297181937696983,\n",
              " 0.020761369963434993,\n",
              " 0.02845551966122361,\n",
              " 0.020896918976428647,\n",
              " 0.026584088867567534,\n",
              " 0.027842302319485226,\n",
              " 0.026584088867567534,\n",
              " 0.019518001458970664,\n",
              " 0.044065264923923174,\n",
              " 0.02535915646704869,\n",
              " 0.04095300778893008,\n",
              " 0.021847813825958583,\n",
              " 0.022703830459324992,\n",
              " 0.012585089523762815,\n",
              " 0.022292667042443974,\n",
              " 0.02917299829957891,\n",
              " 0.027472112789737803,\n",
              " 0.017277368511627204,\n",
              " 0.01813690625275029,\n",
              " 0.015101330108226502,\n",
              " 0.01290456870345337,\n",
              " 0.015626907697949846,\n",
              " 0.01164839947426581,\n",
              " 0.03227486121839514,\n",
              " 0.008664587415167272,\n",
              " 0.02047650389446504,\n",
              " 0.019227214231343204,\n",
              " 0.04188539082916955,\n",
              " 0.02328100985898594,\n",
              " 0.018847805889708434,\n",
              " 0.021952851997938068,\n",
              " 0.037529331252040075,\n",
              " 0.050964719143762556,\n",
              " 0.019744962591969745,\n",
              " 0.020874143036171647,\n",
              " 0.022277295967705647,\n",
              " 0.02030692330267238,\n",
              " 0.02824194006198239,\n",
              " 0.07352146220938077,\n",
              " 0.04428074427700476,\n",
              " 0.0778498944161523,\n",
              " 0.03968378950662725,\n",
              " 0.016540792339471234,\n",
              " 0.03779644730092272,\n",
              " 0.026731853059342517,\n",
              " 0.03806934938134405,\n",
              " 0.03569153051241249,\n",
              " 0.04016096644512494,\n",
              " 0.027681826617913324,\n",
              " 0.043233770116711694,\n",
              " 0.031008683647302117,\n",
              " 0.06324555320336758,\n",
              " 0.038778336716474064,\n",
              " 0.023669053416557544,\n",
              " 0.019980029950087342,\n",
              " 0.019960119601394977,\n",
              " 0.018151839895669614,\n",
              " 0.014016549298025123,\n",
              " 0.014517167628488533,\n",
              " 0.014411256705570563,\n",
              " 0.027896417632583534,\n",
              " 0.027041845831225732,\n",
              " 0.013193346953272202,\n",
              " 0.012639003479138967,\n",
              " 0.011275884962655315,\n",
              " 0.02445214355357672,\n",
              " 0.022725805457654537,\n",
              " 0.011712139482105107,\n",
              " 0.06324555320336758]"
            ]
          },
          "metadata": {
            "tags": []
          },
          "execution_count": 19
        }
      ]
    },
    {
      "cell_type": "code",
      "metadata": {
        "colab": {
          "base_uri": "https://localhost:8080/"
        },
        "id": "U7Vdv-1nQExh",
        "outputId": "3011f733-cc94-40ae-fd00-d7d7971e5ace"
      },
      "source": [
        "document_list = [[1,2,3,4],[5,6,7,8]]\n",
        "def cosine_on_documents(documentsList,query):\n",
        "  cosine_similar_list = []\n",
        "  for i in documentsList:\n",
        "    l1 = i\n",
        "    l2 = query\n",
        "    # for w in rvector:\n",
        "    #     if w in X_set: l1.append(1) # create a vector\n",
        "    #     else: l1.append(0)\n",
        "    #     if w in Y_set: l2.append(1)\n",
        "    #     else: l2.append(0)\n",
        "    c = 0\n",
        "    \n",
        "    for i in range(len(l1)):\n",
        "            c+= l1[i]*l2[i]\n",
        "    cosine = c / float((sum(l1)*sum(l2))**0.5)\n",
        "    cosine_similar_list.append(cosine)\n",
        "  return cosine_similar_list\n",
        "\n",
        "cosine_similar_list = cosine_on_documents(document_list,[1,2,3,4])\n",
        "cosine_similar_list"
      ],
      "execution_count": null,
      "outputs": [
        {
          "output_type": "execute_result",
          "data": {
            "text/plain": [
              "[3.0, 4.341215710622296]"
            ]
          },
          "metadata": {
            "tags": []
          },
          "execution_count": 20
        }
      ]
    },
    {
      "cell_type": "code",
      "metadata": {
        "colab": {
          "base_uri": "https://localhost:8080/"
        },
        "id": "ZHZAcuDibeJB",
        "outputId": "b87f7a0c-3c00-4221-eb29-c7cef863b6dc"
      },
      "source": [
        "def topDocuments(cosine_similar_list):\n",
        "  top_cosine_pos = []\n",
        "\n",
        "  max1 = 0\n",
        "  pos1 = 0\n",
        "\n",
        "  for i in range(5):\n",
        "    max1 = 0\n",
        "    pos1 = 0\n",
        "    for j in range(0,len(cosine_similar_list)):\n",
        "      flag = 0\n",
        "      for k in range(len(top_cosine_pos)):\n",
        "        if j==top_cosine_pos[k]:\n",
        "          flag = 1\n",
        "      if flag == 0:\n",
        "        temp = cosine_similar_list[j]\n",
        "        if(temp>max1):\n",
        "          max1 = temp\n",
        "          pos1 = j\n",
        "    max1\n",
        "    pos1\n",
        "    top_cosine_pos.append(pos1)\n",
        "  return top_cosine_pos\n",
        "\n",
        "top_cosine_pos = topDocuments( cosine_similar_list  )\n",
        "top_cosine_pos"
      ],
      "execution_count": null,
      "outputs": [
        {
          "output_type": "execute_result",
          "data": {
            "text/plain": [
              "[1, 0, 0, 0, 0]"
            ]
          },
          "metadata": {
            "tags": []
          },
          "execution_count": 21
        }
      ]
    },
    {
      "cell_type": "code",
      "metadata": {
        "colab": {
          "base_uri": "https://localhost:8080/"
        },
        "id": "UBSlBvnzbeLB",
        "outputId": "fd215ba2-3828-4428-f97c-9af46e357fc6"
      },
      "source": [
        "print(top_cosine_pos)\n",
        "for i in top_cosine_pos:\n",
        "  print(i)\n",
        "  print(document_list[i])"
      ],
      "execution_count": null,
      "outputs": [
        {
          "output_type": "stream",
          "text": [
            "[1, 0, 0, 0, 0]\n",
            "1\n",
            "[5, 6, 7, 8]\n",
            "0\n",
            "[1, 2, 3, 4]\n",
            "0\n",
            "[1, 2, 3, 4]\n",
            "0\n",
            "[1, 2, 3, 4]\n",
            "0\n",
            "[1, 2, 3, 4]\n"
          ],
          "name": "stdout"
        }
      ]
    },
    {
      "cell_type": "code",
      "metadata": {
        "id": "zjkkmxQEbeNn"
      },
      "source": [
        ""
      ],
      "execution_count": null,
      "outputs": []
    }
  ]
}